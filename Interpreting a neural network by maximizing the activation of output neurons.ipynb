{
 "cells": [
  {
   "cell_type": "code",
   "execution_count": 93,
   "metadata": {},
   "outputs": [],
   "source": [
    "import numpy as np\n",
    "import torch\n",
    "from torch.utils.data import DataLoader, TensorDataset\n",
    "from sklearn.datasets import load_digits\n",
    "from sklearn.model_selection import train_test_split\n",
    "from matplotlib import pyplot as plt"
   ]
  },
  {
   "cell_type": "code",
   "execution_count": 16,
   "metadata": {},
   "outputs": [
    {
     "data": {
      "text/plain": [
       "tensor(4.)"
      ]
     },
     "execution_count": 16,
     "metadata": {},
     "output_type": "execute_result"
    }
   ],
   "source": [
    "x = torch.tensor(1.0, requires_grad=True)\n",
    "y = x**2 + 2*x + 1\n",
    "y.backward()\n",
    "x.grad"
   ]
  },
  {
   "cell_type": "code",
   "execution_count": 247,
   "metadata": {},
   "outputs": [],
   "source": [
    "digits = load_digits()\n",
    "\n",
    "X_scaled = (digits.data - np.min(digits.data))/(np.max(digits.data) - np.min(digits.data))\n",
    "\n",
    "X = torch.tensor(X_scaled, dtype=torch.float32)\n",
    "y = torch.nn.functional.one_hot(torch.tensor(digits.target, dtype=torch.long)).float()\n",
    "\n",
    "X_train, X_test, y_train, y_test = train_test_split(X, y, test_size=0.33)"
   ]
  },
  {
   "cell_type": "code",
   "execution_count": 278,
   "metadata": {},
   "outputs": [],
   "source": [
    "class NeuralNetwork(torch.nn.Module):\n",
    "    def __init__(self, n_inputs, n_hidden, n_outputs):\n",
    "        super().__init__()\n",
    "        self.layer1 = torch.nn.Linear(n_inputs, n_hidden)\n",
    "        self.layer2 = torch.nn.Linear(n_hidden, n_outputs)\n",
    "        self.activation = torch.nn.Sigmoid()\n",
    "        \n",
    "    def forward(self, x):\n",
    "        x = self.layer1(x)\n",
    "        x = self.activation(x)\n",
    "        x = self.layer2(x)\n",
    "        return x\n",
    "    \n",
    "model = NeuralNetwork(64, 16, 10)\n",
    "\n",
    "loss_criterion = torch.nn.CrossEntropyLoss()\n",
    "optimizer = torch.optim.SGD(model.parameters(), lr=0.001, momentum=0.9)\n",
    "\n",
    "num_epochs = 20\n",
    "for epoch in range(num_epochs):\n",
    "    for i in range(len(X_train)):\n",
    "        optimizer.zero_grad()\n",
    "        y_pred = model(X_train[i])\n",
    "        loss = loss_criterion(y_pred, y_train[i])\n",
    "        loss.backward()\n",
    "        optimizer.step()"
   ]
  },
  {
   "cell_type": "code",
   "execution_count": 279,
   "metadata": {},
   "outputs": [
    {
     "name": "stdout",
     "output_type": "stream",
     "text": [
      "tensor(2) tensor(2)\n",
      "tensor(9) tensor(9)\n",
      "tensor(2) tensor(2)\n",
      "tensor(0) tensor(0)\n",
      "tensor(0) tensor(0)\n",
      "tensor(5) tensor(5)\n",
      "tensor(0) tensor(0)\n",
      "tensor(2) tensor(2)\n",
      "tensor(5) tensor(5)\n",
      "tensor(6) tensor(6)\n",
      "tensor(7) tensor(7)\n",
      "tensor(3) tensor(2)\n",
      "tensor(3) tensor(3)\n",
      "tensor(0) tensor(0)\n",
      "tensor(3) tensor(3)\n",
      "tensor(1) tensor(1)\n",
      "tensor(8) tensor(8)\n",
      "tensor(8) tensor(8)\n",
      "tensor(4) tensor(4)\n",
      "tensor(2) tensor(2)\n"
     ]
    }
   ],
   "source": [
    "for k in range(20):\n",
    "    print(torch.argmax(y_test[k]), torch.argmax(model(X_test[k])))"
   ]
  },
  {
   "cell_type": "code",
   "execution_count": 315,
   "metadata": {},
   "outputs": [],
   "source": [
    "model.eval()\n",
    "\n",
    "neuron_index = 8\n",
    "\n",
    "input_array = np.random.randint(120, 136, size=64)\n",
    "\n",
    "learning_rate = 0.1\n",
    "num_iterations = 10000\n",
    "\n",
    "images = []\n",
    "\n",
    "for image in range(5):\n",
    "    input_tensor = torch.randn(64, requires_grad=True)\n",
    "    \n",
    "    for i in range(num_iterations):\n",
    "        output = model(input_tensor)\n",
    "        output[neuron_index].backward()\n",
    "        input_tensor.data += learning_rate * input_tensor.grad.data\n",
    "        input_tensor.grad.zero_()\n",
    "        \n",
    "    img = input_tensor.detach().numpy().reshape((8, 8))\n",
    "    img = (img - np.min(img))/(np.max(img) - np.min(img))*256\n",
    "    \n",
    "    images.append(img)"
   ]
  },
  {
   "cell_type": "code",
   "execution_count": 348,
   "metadata": {},
   "outputs": [
    {
     "data": {
      "text/plain": [
       "(tensor([-1.1748, -0.3274, -0.0368,  0.2204, -3.8715, -0.5646, -2.0427, -1.4087,\n",
       "          7.2799,  1.8534], grad_fn=<AddBackward0>),\n",
       " tensor([-1.2101,  1.0331, -1.1444, -2.9519,  0.0874,  4.8113,  0.1122, -0.9210,\n",
       "          1.1883, -0.1307], grad_fn=<AddBackward0>))"
      ]
     },
     "execution_count": 348,
     "metadata": {},
     "output_type": "execute_result"
    },
    {
     "data": {
      "image/png": "[encoded data removed]",
      "text/plain": [
       "<Figure size 54x360 with 1 Axes>"
      ]
     },
     "metadata": {
      "needs_background": "light"
     },
     "output_type": "display_data"
    },
    {
     "data": {
      "image/png": "[encoded data removed]",
      "text/plain": [
       "<Figure size 54x360 with 1 Axes>"
      ]
     },
     "metadata": {
      "needs_background": "light"
     },
     "output_type": "display_data"
    },
    {
     "data": {
      "image/png": "[encoded data removed]",
      "text/plain": [
       "<Figure size 54x360 with 1 Axes>"
      ]
     },
     "metadata": {
      "needs_background": "light"
     },
     "output_type": "display_data"
    },
    {
     "data": {
      "image/png": "[encoded data removed]",
      "text/plain": [
       "<Figure size 54x360 with 1 Axes>"
      ]
     },
     "metadata": {
      "needs_background": "light"
     },
     "output_type": "display_data"
    },
    {
     "data": {
      "image/png": "[encoded data removed]",
      "text/plain": [
       "<Figure size 54x360 with 1 Axes>"
      ]
     },
     "metadata": {
      "needs_background": "light"
     },
     "output_type": "display_data"
    },
    {
     "data": {
      "image/png": "[encoded data removed]",
      "text/plain": [
       "<Figure size 54x54 with 1 Axes>"
      ]
     },
     "metadata": {
      "needs_background": "light"
     },
     "output_type": "display_data"
    }
   ],
   "source": [
    "for i in range(len(images)):\n",
    "    fig = plt.figure(figsize=(0.75, 5))\n",
    "    fig.add_subplot(5, 1, i+1)\n",
    "    plt.imshow(images[i], cmap=\"gray\")\n",
    "plt.figure(figsize=(0.75,0.75))\n",
    "plt.imshow(X_train[38].detach().numpy().reshape((8,8)), cmap=\"gray\")\n",
    "\n",
    "model(input_tensor), model(X_train[8])"
   ]
  },
  {
   "cell_type": "code",
   "execution_count": 253,
   "metadata": {},
   "outputs": [
    {
     "name": "stdout",
     "output_type": "stream",
     "text": [
      "tensor([ 0.0669, -0.0606, -0.3770,  0.2658, -0.2238, -0.5057, -0.4339,  0.0391,\n",
      "         0.0027, -0.0645, -0.0958,  0.0036,  0.3515,  0.9502, -0.0503, -0.1311,\n",
      "         0.0732,  0.0164, -0.2551,  0.0250,  0.7291,  1.1540,  0.2893,  0.0385,\n",
      "         0.0114, -0.3838, -0.7896,  0.0045, -0.1770, -0.4609, -0.3275, -0.0389,\n",
      "         0.0534, -0.3730, -0.6194, -0.1525, -0.4710, -1.1764, -0.5475,  0.0099,\n",
      "         0.0443, -0.4057,  0.2958, -0.4302, -0.5335, -0.2181, -0.1040, -0.0095,\n",
      "        -0.0620, -0.1483,  0.5810,  0.1037,  0.4851,  1.1500,  0.3845,  0.0050,\n",
      "         0.0608, -0.1177, -0.5317,  0.2123,  0.8615,  0.9370,  0.3266,  0.0580],\n",
      "       grad_fn=<UnbindBackward0>)\n",
      "tensor([ 1.1119e-01,  7.6054e-02,  6.5756e-01,  7.2665e-01,  5.7900e-01,\n",
      "         4.5564e-02, -2.5421e-03,  9.9090e-03,  2.2926e-02,  4.1724e-01,\n",
      "         1.0869e+00,  2.4232e-01,  2.9920e-01,  9.1242e-02,  3.1674e-02,\n",
      "         1.2117e-02,  4.3071e-02,  5.7347e-01,  3.4460e-01, -8.9873e-01,\n",
      "        -5.7070e-01,  2.6570e-01, -2.2244e-01, -5.1176e-02,  1.1840e-01,\n",
      "         3.5077e-01, -1.2624e-01, -3.4031e-01, -3.2097e-01, -9.4268e-02,\n",
      "         4.8393e-02, -2.1702e-02, -1.0750e-01, -2.5806e-01, -4.0743e-01,\n",
      "        -8.2396e-01, -1.1139e+00, -5.9402e-01,  1.3586e-01,  4.3772e-02,\n",
      "        -7.0147e-02, -3.2549e-01, -7.7608e-01, -1.1261e+00, -1.0003e+00,\n",
      "        -1.6119e-01,  2.7008e-01,  2.2811e-03, -2.8164e-05,  1.0936e-01,\n",
      "         1.9690e-01,  9.0028e-02,  3.0140e-01,  1.3129e-01,  2.1052e-01,\n",
      "        -4.2168e-02,  1.1333e-01,  1.4555e-02,  8.9261e-01,  7.4131e-01,\n",
      "         1.1498e-01, -4.0987e-01, -1.8389e-01, -2.4973e-01],\n",
      "       grad_fn=<UnbindBackward0>)\n",
      "tensor([ 1.9081e-02, -3.6552e-02,  9.8743e-02, -1.2796e-01,  3.7974e-01,\n",
      "         7.5547e-01,  2.0682e-01, -4.8998e-02,  1.3482e-03, -1.0313e-01,\n",
      "         7.8329e-02, -1.2563e-01, -2.4531e-01,  3.6754e-02,  3.0034e-01,\n",
      "        -3.4514e-04,  5.4467e-02, -1.1111e-01, -1.5183e-01, -4.9086e-02,\n",
      "        -1.8694e-01, -7.1479e-01, -1.1414e-01, -9.2042e-02, -9.3900e-02,\n",
      "        -2.9250e-02,  4.8078e-02,  4.7773e-01,  3.4172e-01, -4.3875e-01,\n",
      "        -1.9055e-01, -8.3645e-03,  2.9145e-02, -1.2688e-01,  1.6645e-01,\n",
      "         6.5318e-01,  8.9895e-01, -2.0632e-02, -1.9553e-01, -8.4396e-03,\n",
      "        -6.6771e-03,  3.5430e-02,  2.7905e-01,  7.1741e-01,  6.7220e-01,\n",
      "         5.9783e-02, -1.9025e-01,  3.3572e-02,  1.1947e-01,  3.3776e-02,\n",
      "         6.1969e-02,  7.3740e-03, -2.1010e-01, -3.1596e-01, -3.1360e-01,\n",
      "        -8.4938e-02,  7.9105e-02, -2.1743e-02,  6.7279e-03,  3.2346e-02,\n",
      "        -4.3160e-01, -5.1949e-01, -2.6223e-01, -9.9931e-02],\n",
      "       grad_fn=<UnbindBackward0>)\n",
      "tensor([ 0.0083,  0.0043,  0.0100, -0.1827, -0.2541,  0.2277, -0.4320, -0.0089,\n",
      "         0.0219,  0.0676, -0.0168, -0.0160, -0.6010, -0.0359,  0.0939, -0.0362,\n",
      "        -0.0400,  0.0014,  0.1203,  0.2026,  0.1442, -0.7140, -0.1610, -0.0193,\n",
      "         0.0814, -0.3820, -0.5590,  0.4708,  0.4044, -0.8687, -1.2068, -0.0609,\n",
      "        -0.0328, -0.5908, -0.6399,  0.6380,  0.5653, -0.8332, -1.2186,  0.0990,\n",
      "         0.0504, -0.4596,  0.0763,  0.0429, -0.0713, -0.1739, -0.1139,  0.1267,\n",
      "        -0.1058,  0.0660,  0.4260,  0.0491,  0.4292,  0.9451,  0.8150,  0.0135,\n",
      "         0.0330,  0.1477, -0.1905,  0.2304,  0.8429,  1.2583,  0.7258,  0.0492],\n",
      "       grad_fn=<UnbindBackward0>)\n",
      "tensor([ 0.0090,  0.0956,  0.3014, -0.0049, -0.0250,  0.6595,  0.4175, -0.0190,\n",
      "        -0.1080, -0.0083,  0.3018, -0.0381, -0.0878,  0.4465,  0.0965,  0.0412,\n",
      "         0.1185,  0.1257,  0.1442,  0.4083,  0.4246,  0.2235,  0.0821,  0.0698,\n",
      "        -0.0202, -0.0606,  0.5241,  1.4836,  0.8334,  0.3067,  0.0840, -0.1216,\n",
      "        -0.0770, -0.4332, -0.1685,  0.4207,  0.1066, -0.2345, -0.0190,  0.0192,\n",
      "        -0.0868, -0.2854, -1.1465, -0.6570,  0.3789, -0.0672, -0.2432, -0.0281,\n",
      "         0.0391, -0.0985, -0.4594, -0.7779, -0.4033, -0.6277, -0.4651, -0.0928,\n",
      "         0.0892, -0.0440,  0.0425,  0.1128, -0.4194, -0.5862, -0.4077,  0.0895],\n",
      "       grad_fn=<UnbindBackward0>)\n",
      "tensor([-0.0818,  0.0733, -0.0874,  0.1474,  0.1800,  0.1639,  0.1695, -0.1391,\n",
      "         0.0029, -0.1391, -0.3731,  0.0306, -0.0232, -0.3048, -0.0425, -0.0849,\n",
      "        -0.1001, -0.2623, -0.5159,  0.1786,  0.4270, -0.5326, -0.2140,  0.0952,\n",
      "        -0.1097,  0.1250,  0.2881,  0.5989,  0.5832, -0.1194, -0.2521,  0.0752,\n",
      "         0.0987,  0.0394, -0.0676, -0.1447,  0.1524,  0.8910,  0.3172,  0.0578,\n",
      "        -0.1072, -0.2368, -1.0403, -1.0481, -0.2281,  0.6096,  0.8434, -0.0434,\n",
      "         0.0889, -0.0209, -0.7469, -0.4320, -0.2247, -0.0408,  0.2701,  0.0974,\n",
      "         0.0450, -0.0828, -0.0435, -0.1226,  0.1874, -0.0435, -0.2430, -0.1148],\n",
      "       grad_fn=<UnbindBackward0>)\n",
      "tensor([ 0.0462, -0.0205, -0.2711, -0.1542, -0.0281, -0.6363, -0.2253, -0.0196,\n",
      "        -0.0578, -0.0186, -0.1443,  0.2496, -0.0892, -0.5494, -0.0920,  0.0125,\n",
      "         0.1072, -0.0615,  0.2452, -0.0160, -0.5614,  0.0710,  0.2118,  0.0858,\n",
      "        -0.0366,  0.3247,  0.4975, -0.5849, -0.6273,  0.3699,  0.4041,  0.0494,\n",
      "         0.0437,  0.4513,  0.6645, -0.4886, -0.5652,  0.4112,  0.5987,  0.0275,\n",
      "        -0.1181,  0.3010,  0.5835, -0.0773, -0.1531,  0.3120,  0.5499, -0.0256,\n",
      "         0.1215,  0.0578,  0.0613,  0.1282, -0.0039, -0.0666, -0.0014, -0.1046,\n",
      "         0.0827, -0.1021, -0.1619, -0.2016,  0.1059, -0.2308, -0.1055, -0.0973],\n",
      "       grad_fn=<UnbindBackward0>)\n",
      "tensor([-0.0629,  0.0284,  0.0711,  0.0189, -0.2233, -0.6936, -0.2620, -0.1448,\n",
      "         0.1181, -0.0702,  0.4118,  0.0870, -0.2225,  0.4885,  0.0374, -0.0201,\n",
      "        -0.1236,  0.1843,  0.8733, -0.1810, -0.5285,  1.2844,  0.4200,  0.1117,\n",
      "        -0.0696,  0.1491,  0.7712,  0.1079, -0.4205,  0.7296,  0.4551,  0.0703,\n",
      "        -0.1067,  0.1491,  0.1689, -0.1143, -0.9579, -0.4998,  0.2025, -0.0527,\n",
      "         0.0726,  0.1485,  0.2862, -0.3144, -0.3166, -0.3300, -0.2341,  0.0731,\n",
      "        -0.0274, -0.0294,  0.3183, -0.3542, -0.0596, -0.3205, -0.2740, -0.0184,\n",
      "        -0.0611, -0.0678, -0.1902,  0.0964, -0.0509, -0.3578, -0.1809,  0.0471],\n",
      "       grad_fn=<UnbindBackward0>)\n",
      "tensor([ 0.0568,  0.0267,  0.5411,  0.5251,  0.8214,  0.7912,  0.5931,  0.0071,\n",
      "         0.1147,  0.2426,  0.7859,  0.0445, -0.0282,  0.2578,  0.5917,  0.1726,\n",
      "        -0.0854, -0.0099, -0.4741, -1.1474, -0.5419, -0.2141, -0.0472, -0.0390,\n",
      "        -0.0969, -0.1460, -0.4674,  0.1054,  0.5011,  0.0107, -0.1677,  0.0140,\n",
      "        -0.0787, -0.3241, -0.4202,  0.2831,  0.5866,  0.5121,  0.0712,  0.0681,\n",
      "         0.0087,  0.0371, -0.5456, -0.6642, -0.2701,  0.1991,  0.2061, -0.0948,\n",
      "        -0.0794,  0.0216, -0.0678, -0.4371, -0.7437, -0.3977, -0.0636,  0.0406,\n",
      "        -0.0571, -0.0262,  0.7307,  0.4250, -0.7109, -0.7664, -0.5869, -0.2131],\n",
      "       grad_fn=<UnbindBackward0>)\n",
      "tensor([-0.0233,  0.1701,  0.3048,  0.2032,  0.0412,  0.2560,  0.2635,  0.1256,\n",
      "        -0.1141,  0.1053, -0.2581,  0.3686,  0.2081, -0.8731, -0.2212,  0.1098,\n",
      "        -0.1118, -0.0927, -0.1130, -0.1044, -0.5292, -1.5588, -0.4416,  0.0837,\n",
      "        -0.0415,  0.1737, -0.1476, -0.9462, -0.3378, -0.1871, -0.1609, -0.1179,\n",
      "         0.0932,  0.0827,  0.1850,  0.0215,  0.1932,  0.1237,  0.0663, -0.0072,\n",
      "        -0.0524, -0.1297,  0.0041,  1.2416,  0.1805, -0.9398, -0.1613, -0.0153,\n",
      "        -0.0297,  0.0671, -0.0798,  1.1456,  0.4222, -0.0814,  0.2329,  0.1797,\n",
      "         0.0949,  0.1754,  0.4866,  0.0856, -0.2257,  0.4217,  0.6505,  0.3469],\n",
      "       grad_fn=<UnbindBackward0>)\n",
      "tensor([-5.8341e-02,  1.6543e-02, -1.1682e-01, -5.3742e-02,  2.7713e-01,\n",
      "        -1.3615e-01,  8.0658e-03,  1.8227e-01,  9.6507e-02, -9.0330e-02,\n",
      "        -2.0086e-01, -2.6849e-01,  3.2366e-01,  4.3933e-01,  2.8967e-01,\n",
      "         1.3295e-01,  5.6300e-03, -3.6704e-01, -1.2987e+00, -4.9418e-01,\n",
      "         1.0023e+00,  4.6922e-01,  3.3534e-01,  7.2869e-02,  6.8496e-02,\n",
      "        -4.8590e-01, -1.5374e+00, -7.5056e-01,  3.9526e-01,  1.1960e-02,\n",
      "         1.1642e-01, -8.0090e-02,  1.0325e-01, -7.1193e-04, -3.6507e-01,\n",
      "         1.9760e-01,  1.0885e+00,  5.8930e-01, -7.5146e-02, -9.2417e-02,\n",
      "        -3.9761e-02,  2.8077e-01,  3.1205e-01,  7.1399e-01,  5.0438e-01,\n",
      "         1.6245e-01, -2.8241e-01,  8.4017e-02,  1.1606e-01,  2.7476e-02,\n",
      "        -2.0379e-01,  1.3776e-01, -1.0743e-01, -1.4201e-01, -2.4973e-02,\n",
      "        -1.0210e-01,  1.0182e-01,  4.1411e-02, -1.1736e-01, -1.6869e-01,\n",
      "        -5.7232e-02, -6.0174e-02,  8.5311e-03,  4.2690e-02],\n",
      "       grad_fn=<UnbindBackward0>)\n",
      "tensor([-0.0479, -0.0566,  0.0169, -0.2360, -0.1220, -0.0560,  0.1646,  0.1232,\n",
      "         0.0836,  0.0366, -0.4120, -0.1959,  0.1884, -0.3691, -0.2136, -0.0483,\n",
      "         0.0302,  0.0897, -0.0673,  0.6465,  0.5794,  0.1234, -0.0287, -0.0846,\n",
      "        -0.0702,  0.1828,  0.8104,  0.6436,  0.6108,  0.6121,  0.5511,  0.0394,\n",
      "        -0.0577,  0.2540,  0.2446, -0.1669,  0.0112,  0.5302,  0.3132,  0.0234,\n",
      "         0.0945,  0.2422, -0.9303, -0.1095,  0.6851,  0.0088, -0.3284, -0.0445,\n",
      "        -0.0735,  0.0106, -0.8077, -0.4051,  0.0813, -1.0141, -0.6146, -0.0623,\n",
      "        -0.0014, -0.0441, -0.0300, -0.2361, -0.2792, -0.6521, -0.4800,  0.1083],\n",
      "       grad_fn=<UnbindBackward0>)\n",
      "tensor([ 0.0396,  0.0199, -0.5128, -0.4015, -0.0658, -0.5019, -0.4593, -0.1776,\n",
      "        -0.0604, -0.2780, -0.2377, -0.1411, -1.0045, -0.5122, -0.3117,  0.0229,\n",
      "         0.0148, -0.0537,  0.8877,  0.3780, -0.5360,  0.0626, -0.1007,  0.0481,\n",
      "        -0.0670,  0.3094,  1.3669,  1.1431,  0.1266,  0.1014, -0.1712,  0.0129,\n",
      "         0.0339,  0.1866,  0.4823,  0.4674,  0.0023,  0.1027,  0.1479,  0.1075,\n",
      "        -0.0640,  0.0995,  0.3778, -0.2239, -0.0606,  0.7421,  0.5382, -0.0602,\n",
      "        -0.0517, -0.0981, -0.0647, -0.7253, -0.6329,  0.1774,  0.2652, -0.0045,\n",
      "         0.0865, -0.1226, -0.6284, -0.1696,  0.5381, -0.0886, -0.3044, -0.2866],\n",
      "       grad_fn=<UnbindBackward0>)\n",
      "tensor([-0.0385,  0.0934,  0.4459,  0.2388,  0.1675,  0.7726,  0.3759, -0.0915,\n",
      "        -0.0892,  0.1536,  0.1304,  0.0809,  0.5917,  0.1409,  0.0314,  0.0112,\n",
      "        -0.0708,  0.0918, -0.5364, -0.0558,  0.6995, -0.3446, -0.1716,  0.0957,\n",
      "        -0.0831, -0.1139, -0.5043,  0.1313,  0.6303, -0.0545, -0.3402,  0.0328,\n",
      "         0.0551, -0.3269, -0.6880, -0.2538, -0.0215, -0.1050, -0.1812, -0.0209,\n",
      "        -0.0551, -0.2564, -1.2857, -0.2574,  0.0114, -0.5134, -0.3398,  0.1014,\n",
      "         0.0330, -0.0419, -0.4474,  0.1753,  0.5253,  0.0279, -0.0122,  0.1974,\n",
      "         0.1202,  0.0689,  0.5647,  0.2801, -0.2223,  0.0661,  0.2064,  0.2315],\n",
      "       grad_fn=<UnbindBackward0>)\n",
      "tensor([-3.5475e-03, -1.2249e-02,  2.4903e-01, -1.4285e-01,  2.4561e-01,\n",
      "         7.8642e-02,  1.1010e-01,  7.0666e-03, -4.6168e-02, -2.0992e-01,\n",
      "        -8.1186e-05,  1.2320e-01, -3.8461e-01, -6.3481e-01, -3.9705e-01,\n",
      "        -1.0110e-01, -1.2064e-02, -4.0121e-02,  5.9241e-01,  2.9863e-01,\n",
      "        -1.0911e+00, -1.4153e+00, -4.1904e-01, -9.7498e-02,  6.9762e-02,\n",
      "         5.5225e-01,  6.8858e-01, -4.4320e-01, -7.7939e-01, -2.8734e-01,\n",
      "         5.8102e-03, -3.2724e-02, -1.8063e-02,  7.5019e-01,  8.5299e-01,\n",
      "        -2.3504e-01, -2.3115e-01,  2.8341e-01,  3.7103e-01,  1.6910e-03,\n",
      "        -2.3626e-02,  2.8508e-01,  9.9098e-01,  7.8208e-01,  1.8373e-01,\n",
      "         2.8111e-01,  1.2096e-01,  1.2706e-01,  1.4006e-02,  6.0787e-03,\n",
      "         4.7496e-01,  2.6606e-01,  1.5831e-01,  5.6577e-03, -2.0167e-01,\n",
      "        -1.4206e-01, -8.3921e-02,  9.5284e-02,  2.4009e-01,  4.4722e-02,\n",
      "        -1.5369e-01, -4.0505e-01, -2.5237e-01, -2.0056e-02],\n",
      "       grad_fn=<UnbindBackward0>)\n",
      "tensor([-0.0702, -0.0626, -0.4814, -0.5380, -0.6537, -0.7028, -0.2073,  0.0822,\n",
      "        -0.0788, -0.3088, -0.5998, -0.0936,  0.0771,  0.2538, -0.1563,  0.1455,\n",
      "         0.0665, -0.1315,  0.2334,  0.9671,  0.4318,  0.9181,  0.4226,  0.0666,\n",
      "         0.0265,  0.0121,  0.3118, -0.0905, -0.2273,  0.5698,  0.6314, -0.0793,\n",
      "         0.0480,  0.2254,  0.2568,  0.1628, -0.0034, -0.1689,  0.1383, -0.1127,\n",
      "        -0.0926,  0.3030,  0.6751,  0.9938,  0.7577, -0.3797, -0.5542, -0.0915,\n",
      "        -0.0468,  0.0787,  0.0678,  0.3067,  0.2287, -0.2918, -0.2954,  0.1129,\n",
      "        -0.0390, -0.1414, -0.7307, -0.5673,  0.0696,  0.1396,  0.3521,  0.3106],\n",
      "       grad_fn=<UnbindBackward0>)\n"
     ]
    }
   ],
   "source": [
    "for param in list(model.parameters())[0]:\n",
    "    print(param)"
   ]
  },
  {
   "cell_type": "code",
   "execution_count": null,
   "metadata": {},
   "outputs": [],
   "source": []
  }
 ],
 "metadata": {
  "kernelspec": {
   "display_name": "Python 3",
   "language": "python",
   "name": "python3"
  },
  "language_info": {
   "codemirror_mode": {
    "name": "ipython",
    "version": 3
   },
   "file_extension": ".py",
   "mimetype": "text/x-python",
   "name": "python",
   "nbconvert_exporter": "python",
   "pygments_lexer": "ipython3",
   "version": "3.7.0"
  }
 },
 "nbformat": 4,
 "nbformat_minor": 2
}
