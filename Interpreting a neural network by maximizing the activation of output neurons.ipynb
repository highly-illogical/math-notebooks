{
 "cells": [
  {
   "cell_type": "markdown",
   "metadata": {},
   "source": [
    "One way to find out what exactly a neural network learns is to look at the function of each neuron individually. Although there's no easy way to disentangle a single neuron from the rest of the network, we can try to figure out what kind of input is recognized by that neuron - and that gives us some insight into its role."
   ]
  },
  {
   "cell_type": "code",
   "execution_count": 1,
   "metadata": {},
   "outputs": [],
   "source": [
    "import numpy as np\n",
    "import torch\n",
    "from torch.utils.data import DataLoader, TensorDataset\n",
    "from sklearn.datasets import load_digits\n",
    "from sklearn.model_selection import train_test_split\n",
    "from matplotlib import pyplot as plt"
   ]
  },
  {
   "cell_type": "markdown",
   "metadata": {},
   "source": [
    "In this notebook, we train a neural network on the digits dataset from scikit-learn, which contains 1797 8x8 images of handwritten digits. We then initialize the input with a random image, and instead of using gradient descent to optimize the weights to minimize the loss, we use it to optimize the input image to maximize the activation of a particular neuron. Visualizing this optimized image can then tell us something about what that neuron responds to."
   ]
  },
  {
   "cell_type": "code",
   "execution_count": 2,
   "metadata": {},
   "outputs": [],
   "source": [
    "digits = load_digits()\n",
    "\n",
    "X_scaled = (digits.data - np.min(digits.data))/(np.max(digits.data) - np.min(digits.data))\n",
    "\n",
    "# Convert X and y into PyTorch tensors and apply a one-hot encoding to y\n",
    "X = torch.tensor(X_scaled, dtype=torch.float32)\n",
    "y = torch.nn.functional.one_hot(torch.tensor(digits.target, dtype=torch.long)).float()\n",
    "\n",
    "X_train, X_test, y_train, y_test = train_test_split(X, y, test_size=0.33)"
   ]
  },
  {
   "cell_type": "code",
   "execution_count": 42,
   "metadata": {},
   "outputs": [],
   "source": [
    "class NeuralNetwork(torch.nn.Module):\n",
    "    def __init__(self, n_inputs, n_hidden, n_outputs):\n",
    "        super().__init__()\n",
    "        self.layer1 = torch.nn.Linear(n_inputs, n_hidden)\n",
    "        self.layer2 = torch.nn.Linear(n_hidden, n_outputs)\n",
    "        self.activation = torch.nn.Sigmoid()\n",
    "        \n",
    "    def forward(self, x):\n",
    "        x = self.layer1(x)\n",
    "        x = self.activation(x)\n",
    "        x = self.layer2(x)\n",
    "        return x\n",
    "    \n",
    "class ConvNet(torch.nn.Module):\n",
    "    def __init__(self, n_hidden, n_outputs):\n",
    "        super().__init__()\n",
    "        self.conv2d = torch.nn.Conv2d(1, n_hidden, kernel_size=(8,1))\n",
    "        self.flatten = torch.nn.Flatten()\n",
    "        self.fc = torch.nn.Linear(128, n_outputs)\n",
    "        \n",
    "    def forward(self, x):\n",
    "        x = self.conv2d(x)\n",
    "        x = self.flatten(x)\n",
    "        x = self.fc(x)\n",
    "        return x\n",
    "    \n",
    "    \n",
    "model = NeuralNetwork(64, 16, 10)\n",
    "\n",
    "model_cnn = ConvNet(16, 10)\n",
    "\n",
    "loss_criterion = torch.nn.CrossEntropyLoss()\n",
    "optimizer = torch.optim.SGD(model_cnn.parameters(), lr=0.001, momentum=0.9)\n",
    "\n",
    "num_epochs = 20\n",
    "for epoch in range(num_epochs):\n",
    "    for i in range(len(X_train)):\n",
    "        optimizer.zero_grad()\n",
    "        y_pred = model_cnn(torch.reshape(X_train[i], (8,8)).unsqueeze(0).unsqueeze(0)) \n",
    "        loss = loss_criterion(y_pred[0], y_train[i])\n",
    "        loss.backward()\n",
    "        optimizer.step()"
   ]
  },
  {
   "cell_type": "markdown",
   "metadata": {},
   "source": [
    "Now that we've trained the network, we take each of the 10 output neurons in turn and try to maximize its activation."
   ]
  },
  {
   "cell_type": "code",
   "execution_count": 52,
   "metadata": {},
   "outputs": [],
   "source": [
    "# Turn off weight updating during backprop\n",
    "for param in model.parameters():\n",
    "    param.requires_grad = False\n",
    "    \n",
    "# Set model to evaluation mode\n",
    "model.eval()\n",
    "\n",
    "learning_rate = 0.01\n",
    "num_iterations = 2500\n",
    "\n",
    "images = []\n",
    "\n",
    "for k in range(10):\n",
    "    input_tensor = torch.randn(1, 1, 8, 8, requires_grad=True)\n",
    "    \n",
    "    for i in range(num_iterations):\n",
    "        output = model_cnn(input_tensor)\n",
    "        output[0][k].backward()\n",
    "        input_tensor.data += learning_rate * input_tensor.grad.data\n",
    "        input_tensor.grad.zero_()\n",
    "        \n",
    "    img = input_tensor.detach().numpy().reshape((8, 8))\n",
    "    img = (img - np.min(img))/(np.max(img) - np.min(img))*256\n",
    "\n",
    "    images.append(img)"
   ]
  },
  {
   "cell_type": "code",
   "execution_count": 53,
   "metadata": {},
   "outputs": [
    {
     "data": {
      "image/png": "[encoded data removed]",
      "text/plain": [
       "<Figure size 720x72 with 10 Axes>"
      ]
     },
     "metadata": {
      "needs_background": "light"
     },
     "output_type": "display_data"
    }
   ],
   "source": [
    "fig = plt.figure(figsize=(10, 1))\n",
    "\n",
    "for i in range(len(images)):\n",
    "    fig.add_subplot(1, 10, i+1)\n",
    "    plt.imshow(images[i], cmap=\"gray\")\n",
    "    plt.axis('off')\n",
    "    plt.title(i)"
   ]
  },
  {
   "cell_type": "markdown",
   "metadata": {},
   "source": [
    "From the above images, it's clear that each output neuron responds most strongly to an image that looks at least vaguely like the digit that it predicts. We can see this for 0, 2, 3 and 5, and make out shapes in the other images that correspond to parts of the associated digits (for example, the optimized image for 8 looks like an X - that's what that neuron detects)."
   ]
  },
  {
   "cell_type": "code",
   "execution_count": null,
   "metadata": {},
   "outputs": [],
   "source": []
  }
 ],
 "metadata": {
  "kernelspec": {
   "display_name": "Python 3",
   "language": "python",
   "name": "python3"
  },
  "language_info": {
   "codemirror_mode": {
    "name": "ipython",
    "version": 3
   },
   "file_extension": ".py",
   "mimetype": "text/x-python",
   "name": "python",
   "nbconvert_exporter": "python",
   "pygments_lexer": "ipython3",
   "version": "3.7.0"
  }
 },
 "nbformat": 4,
 "nbformat_minor": 2
}
