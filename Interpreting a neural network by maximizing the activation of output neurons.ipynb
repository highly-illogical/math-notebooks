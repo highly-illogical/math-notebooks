{
 "cells": [
  {
   "cell_type": "code",
   "execution_count": 2,
   "metadata": {},
   "outputs": [],
   "source": [
    "import numpy as np\n",
    "import torch\n",
    "from torch.utils.data import DataLoader, TensorDataset\n",
    "from sklearn.datasets import load_digits\n",
    "from sklearn.model_selection import train_test_split\n",
    "from matplotlib import pyplot as plt"
   ]
  },
  {
   "cell_type": "code",
   "execution_count": 3,
   "metadata": {},
   "outputs": [],
   "source": [
    "digits = load_digits()\n",
    "\n",
    "X_scaled = (digits.data - np.min(digits.data))/(np.max(digits.data) - np.min(digits.data))\n",
    "\n",
    "X = torch.tensor(X_scaled, dtype=torch.float32)\n",
    "y = torch.nn.functional.one_hot(torch.tensor(digits.target, dtype=torch.long)).float()\n",
    "\n",
    "X_train, X_test, y_train, y_test = train_test_split(X, y, test_size=0.33)"
   ]
  },
  {
   "cell_type": "code",
   "execution_count": 59,
   "metadata": {},
   "outputs": [],
   "source": [
    "class NeuralNetwork(torch.nn.Module):\n",
    "    def __init__(self, n_inputs, n_hidden, n_outputs):\n",
    "        super().__init__()\n",
    "        self.layer1 = torch.nn.Linear(n_inputs, n_hidden)\n",
    "        self.layer2 = torch.nn.Linear(n_hidden, n_outputs)\n",
    "        self.activation = torch.nn.Sigmoid()\n",
    "        \n",
    "    def forward(self, x):\n",
    "        x = self.layer1(x)\n",
    "        x = self.activation(x)\n",
    "        x = self.layer2(x)\n",
    "        return x\n",
    "    \n",
    "class ConvNet(torch.nn.Module):\n",
    "    def __init__(self, n_hidden, n_outputs):\n",
    "        super().__init__()\n",
    "        self.conv2d = torch.nn.Conv2d(1, n_hidden, kernel_size=(8,1))\n",
    "        self.flatten = torch.nn.Flatten()\n",
    "        self.fc = torch.nn.Linear(128, n_outputs)\n",
    "        \n",
    "    def forward(self, x):\n",
    "        x = self.conv2d(x)\n",
    "        x = self.flatten(x)\n",
    "        x = self.fc(x)\n",
    "        return x\n",
    "    \n",
    "    \n",
    "model = NeuralNetwork(64, 16, 10)\n",
    "\n",
    "model_cnn = ConvNet(16, 10)\n",
    "\n",
    "loss_criterion = torch.nn.CrossEntropyLoss()\n",
    "optimizer = torch.optim.SGD(model_cnn.parameters(), lr=0.001, momentum=0.9)\n",
    "\n",
    "num_epochs = 20\n",
    "for epoch in range(num_epochs):\n",
    "    for i in range(len(X_train)):\n",
    "        optimizer.zero_grad()\n",
    "        #y_pred = model(X_train[i])\n",
    "        y_pred = model_cnn(torch.reshape(X_train[i], (8,8)).unsqueeze(0).unsqueeze(0)) \n",
    "        loss = loss_criterion(y_pred[0], y_train[i])\n",
    "        loss.backward()\n",
    "        optimizer.step()"
   ]
  },
  {
   "cell_type": "code",
   "execution_count": 60,
   "metadata": {},
   "outputs": [
    {
     "name": "stdout",
     "output_type": "stream",
     "text": [
      "tensor(9) tensor(9)\n",
      "tensor(9) tensor(9)\n",
      "tensor(4) tensor(4)\n",
      "tensor(3) tensor(3)\n",
      "tensor(5) tensor(5)\n",
      "tensor(1) tensor(1)\n",
      "tensor(5) tensor(5)\n",
      "tensor(3) tensor(3)\n",
      "tensor(8) tensor(8)\n",
      "tensor(5) tensor(5)\n"
     ]
    }
   ],
   "source": [
    "for k in range(10):\n",
    "    print(torch.argmax(y_test[k]), torch.argmax(model_cnn(X_test[k].reshape((8,8)).unsqueeze(0).unsqueeze(0))))"
   ]
  },
  {
   "cell_type": "code",
   "execution_count": 61,
   "metadata": {},
   "outputs": [],
   "source": [
    "model.eval()\n",
    "\n",
    "neuron_index = 3\n",
    "\n",
    "learning_rate = 0.1\n",
    "num_iterations = 1000\n",
    "\n",
    "images = []\n",
    "\n",
    "for k in range(10):\n",
    "    input_tensor = torch.randn(1, 1, 8, 8, requires_grad=True)\n",
    "    #input_tensor = input_tensor.reshape((8,8)).unsqueeze(0).unsqueeze(0)\n",
    "    \n",
    "    for i in range(num_iterations):\n",
    "        output = model_cnn(input_tensor)\n",
    "        output[0][k].backward()\n",
    "        input_tensor.data += learning_rate * input_tensor.grad.data\n",
    "        input_tensor.grad.zero_()\n",
    "        \n",
    "    img = input_tensor.detach().numpy().reshape((8, 8))\n",
    "    img = (img - np.min(img))/(np.max(img) - np.min(img))*256\n",
    "    \n",
    "    images.append(img)"
   ]
  },
  {
   "cell_type": "code",
   "execution_count": 77,
   "metadata": {},
   "outputs": [
    {
     "data": {
      "text/plain": [
       "(tensor([[  282.0166, -1184.1260, -4813.4902,  -229.7987, -3921.3711,   928.8403,\n",
       "          -6187.5757,  -386.2816,  1655.4132, 12783.9941]],\n",
       "        grad_fn=<AddmmBackward0>),\n",
       " tensor([ 0.3266,  0.1673, -0.4898, -0.7806,  0.4027, -0.5717,  0.0797, -0.2479,\n",
       "          0.3213,  0.4039], grad_fn=<AddBackward0>))"
      ]
     },
     "execution_count": 77,
     "metadata": {},
     "output_type": "execute_result"
    },
    {
     "data": {
      "image/png": "[encoded data removed]",
      "text/plain": [
       "<Figure size 54x720 with 1 Axes>"
      ]
     },
     "metadata": {
      "needs_background": "light"
     },
     "output_type": "display_data"
    },
    {
     "data": {
      "image/png": "[encoded data removed]",
      "text/plain": [
       "<Figure size 54x720 with 1 Axes>"
      ]
     },
     "metadata": {
      "needs_background": "light"
     },
     "output_type": "display_data"
    },
    {
     "data": {
      "image/png": "[encoded data removed]",
      "text/plain": [
       "<Figure size 54x720 with 1 Axes>"
      ]
     },
     "metadata": {
      "needs_background": "light"
     },
     "output_type": "display_data"
    },
    {
     "data": {
      "image/png": "[encoded data removed]",
      "text/plain": [
       "<Figure size 54x720 with 1 Axes>"
      ]
     },
     "metadata": {
      "needs_background": "light"
     },
     "output_type": "display_data"
    },
    {
     "data": {
      "image/png": "[encoded data removed]",
      "text/plain": [
       "<Figure size 54x720 with 1 Axes>"
      ]
     },
     "metadata": {
      "needs_background": "light"
     },
     "output_type": "display_data"
    },
    {
     "data": {
      "image/png": "[encoded data removed]",
      "text/plain": [
       "<Figure size 54x720 with 1 Axes>"
      ]
     },
     "metadata": {
      "needs_background": "light"
     },
     "output_type": "display_data"
    },
    {
     "data": {
      "image/png": "[encoded data removed]",
      "text/plain": [
       "<Figure size 54x720 with 1 Axes>"
      ]
     },
     "metadata": {
      "needs_background": "light"
     },
     "output_type": "display_data"
    },
    {
     "data": {
      "image/png": "[encoded data removed]",
      "text/plain": [
       "<Figure size 54x720 with 1 Axes>"
      ]
     },
     "metadata": {
      "needs_background": "light"
     },
     "output_type": "display_data"
    },
    {
     "data": {
      "image/png": "[encoded data removed]",
      "text/plain": [
       "<Figure size 54x720 with 1 Axes>"
      ]
     },
     "metadata": {
      "needs_background": "light"
     },
     "output_type": "display_data"
    },
    {
     "data": {
      "image/png": "[encoded data removed]",
      "text/plain": [
       "<Figure size 54x720 with 1 Axes>"
      ]
     },
     "metadata": {
      "needs_background": "light"
     },
     "output_type": "display_data"
    },
    {
     "data": {
      "image/png": "[encoded data removed]",
      "text/plain": [
       "<Figure size 54x54 with 1 Axes>"
      ]
     },
     "metadata": {
      "needs_background": "light"
     },
     "output_type": "display_data"
    }
   ],
   "source": [
    "for i in range(len(images)):\n",
    "    fig = plt.figure(figsize=(0.75, 10))\n",
    "    fig.add_subplot(10, 1, i+1)\n",
    "    plt.imshow(images[i], cmap=\"gray\")\n",
    "plt.figure(figsize=(0.75,0.75))\n",
    "plt.imshow(X_train[38].detach().numpy().reshape((8,8)), cmap=\"gray\")\n",
    "\n",
    "model_cnn(input_tensor), model(X_train[38])"
   ]
  },
  {
   "cell_type": "code",
   "execution_count": null,
   "metadata": {},
   "outputs": [],
   "source": []
  }
 ],
 "metadata": {
  "kernelspec": {
   "display_name": "Python 3",
   "language": "python",
   "name": "python3"
  }
 },
 "nbformat": 4,
 "nbformat_minor": 2
}
